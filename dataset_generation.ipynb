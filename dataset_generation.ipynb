{
 "cells": [
  {
   "cell_type": "code",
   "execution_count": 1,
   "id": "f9734c37",
   "metadata": {},
   "outputs": [
    {
     "name": "stdout",
     "output_type": "stream",
     "text": [
      "High-range dataset saved.\n"
     ]
    }
   ],
   "source": [
    "import pandas as pd\n",
    "import numpy as np\n",
    "\n",
    "# Configuration\n",
    "num_days = 25 * 365\n",
    "dates = pd.date_range(start=\"2000-01-01\", periods=num_days, freq='D')\n",
    "t = np.arange(num_days)\n",
    "\n",
    "# NEW: Simulate broader values with patterns\n",
    "fuel_used = 20000 + 10000 * np.sin(2 * np.pi * t / 365) + np.random.normal(0, 2000, num_days)\n",
    "coal_mined = 50000 + 20000 * np.sin(2 * np.pi * t / 180) + np.random.normal(0, 5000, num_days)\n",
    "\n",
    "# Ensure no negatives\n",
    "fuel_used = np.clip(fuel_used, 500, 50000)\n",
    "coal_mined = np.clip(coal_mined, 1000, 100000)\n",
    "\n",
    "# Emission factors\n",
    "CO2_PER_LITER = 2.68\n",
    "CARBON_PERCENT = 0.35\n",
    "CO2_PER_KG_C = 3.67\n",
    "\n",
    "co2_emitted = fuel_used * CO2_PER_LITER\n",
    "trapped_carbon = coal_mined * 1000 * CARBON_PERCENT\n",
    "potential_co2 = trapped_carbon * CO2_PER_KG_C\n",
    "\n",
    "df = pd.DataFrame({\n",
    "    \"Date\": dates,\n",
    "    \"Fuel_Used_Liters\": fuel_used,\n",
    "    \"Coal_Mined_Tonnes\": coal_mined,\n",
    "    \"CO2_Emitted_kg\": co2_emitted,\n",
    "    \"Trapped_Carbon_kg\": trapped_carbon,\n",
    "    \"Potential_CO2_from_Coal_kg\": potential_co2\n",
    "})\n",
    "\n",
    "df.to_csv(\"highrange_25yrs_indian_coalmine_data.csv\", index=False)\n",
    "print(\"High-range dataset saved.\")\n"
   ]
  }
 ],
 "metadata": {
  "kernelspec": {
   "display_name": "Python 3",
   "language": "python",
   "name": "python3"
  },
  "language_info": {
   "codemirror_mode": {
    "name": "ipython",
    "version": 3
   },
   "file_extension": ".py",
   "mimetype": "text/x-python",
   "name": "python",
   "nbconvert_exporter": "python",
   "pygments_lexer": "ipython3",
   "version": "3.11.9"
  }
 },
 "nbformat": 4,
 "nbformat_minor": 5
}
